{
 "cells": [
  {
   "cell_type": "code",
   "execution_count": 14,
   "id": "0b13a4a3",
   "metadata": {},
   "outputs": [],
   "source": [
    "import numpy as np\n",
    "import pandas as pd\n",
    "\n",
    "ss = pd.read_csv('second_sheet.csv')"
   ]
  },
  {
   "cell_type": "code",
   "execution_count": 15,
   "id": "f9b24182",
   "metadata": {},
   "outputs": [
    {
     "name": "stdout",
     "output_type": "stream",
     "text": [
      "   Unnamed: 0      A      B     C     D     E     F\n",
      "0           1   20.0  200.0  25.0  35.0  35.0  44.0\n",
      "1           2    5.0   15.0   7.0  37.0  37.0  55.0\n",
      "2           3    7.0   17.0   1.0  18.0  18.0  22.0\n",
      "3           4   10.0   11.0  18.0   5.0   5.0  11.0\n",
      "4           5   15.0   23.0  17.0   7.0   7.0   9.0\n",
      "5         NaN    NaN    NaN   NaN   NaN   NaN   NaN\n",
      "6         NaN    NaN    NaN   NaN   NaN   NaN   NaN\n",
      "7         NaN    NaN    NaN   NaN   NaN   NaN   NaN\n",
      "8        (a)    55.0    NaN   NaN   NaN   NaN   NaN\n",
      "9         NaN    NaN    NaN   NaN   NaN   NaN   NaN\n",
      "10        (b)   32.3    NaN   NaN   NaN   NaN   NaN\n",
      "11        NaN    NaN    NaN   NaN   NaN   NaN   NaN\n",
      "12        (c)  736.0    NaN   NaN   NaN   NaN   NaN\n",
      "13        NaN    NaN    NaN   NaN   NaN   NaN   NaN\n",
      "14        (d)    5.0    NaN   NaN   NaN   NaN   NaN\n"
     ]
    }
   ],
   "source": [
    "print(ss)"
   ]
  },
  {
   "cell_type": "code",
   "execution_count": 16,
   "id": "a2615221",
   "metadata": {},
   "outputs": [
    {
     "name": "stdout",
     "output_type": "stream",
     "text": [
      "Maximum no within the range C2 to F5 is =  55.0\n"
     ]
    }
   ],
   "source": [
    "#Q1(a) Write a function to find the maximum no within the range C2 to F5\n",
    "\n",
    "subset1 = ss.loc[1:4, 'C':'F']\n",
    "maximum = subset1.max().max()\n",
    "\n",
    "print(\"Maximum no within the range C2 to F5 is = \", maximum)"
   ]
  },
  {
   "cell_type": "code",
   "execution_count": 17,
   "id": "2efc44bd",
   "metadata": {},
   "outputs": [
    {
     "name": "stdout",
     "output_type": "stream",
     "text": [
      "The average of the no which lie with in A1 to B5 is =  32.300000000000004\n"
     ]
    }
   ],
   "source": [
    "#Q1(b) Write a formula to find the average of the no which lie with in A1 to B5\n",
    "\n",
    "subset2 = ss.loc[0:4, 'A':'B']\n",
    "average = subset2.mean().mean()\n",
    "\n",
    "print(\"The average of the no which lie with in A1 to B5 is = \", average)"
   ]
  },
  {
   "cell_type": "code",
   "execution_count": 18,
   "id": "bc20c378",
   "metadata": {},
   "outputs": [
    {
     "name": "stdout",
     "output_type": "stream",
     "text": [
      "The total of all nos with in the range A1 to F5 is =  736.0\n"
     ]
    }
   ],
   "source": [
    "#Q1 (c) What will be the total of all nos with in the range A1 to F5?\n",
    "\n",
    "subset3 = ss.loc[0:4, 'A':'F']\n",
    "total = subset3.sum().sum()\n",
    "\n",
    "print(\"The total of all nos with in the range A1 to F5 is = \", total)"
   ]
  },
  {
   "cell_type": "code",
   "execution_count": 9,
   "id": "4273d14f",
   "metadata": {},
   "outputs": [
    {
     "name": "stdout",
     "output_type": "stream",
     "text": [
      "Minimum value with in the range D1 to F5 is =  5.0\n"
     ]
    }
   ],
   "source": [
    "#Q1 (d) Find the minimum value with in the range D1 to F5 \n",
    "\n",
    "subset4 = ss.loc[0:4, 'D':'F']\n",
    "minimum = subset4.min().min()\n",
    "\n",
    "print(\"Minimum value with in the range D1 to F5 is = \", minimum)"
   ]
  },
  {
   "cell_type": "code",
   "execution_count": 20,
   "id": "4e280c80",
   "metadata": {},
   "outputs": [
    {
     "name": "stdout",
     "output_type": "stream",
     "text": [
      "   S. No Item  Qtr 1  Qtr 2  Qtr 3\n",
      "0      1    A    200    230    210\n",
      "1      2    B    190    200    211\n",
      "2      3    C    180    190    170\n",
      "3      4    D    200    210    220\n"
     ]
    }
   ],
   "source": [
    "#Q2 Plotting the bar chart (filename - 'Sales_figures.csv')\n",
    "\n",
    "import matplotlib.pyplot as plt\n",
    "sales = pd.read_csv('Sales_figures.csv')\n",
    "print(sales)"
   ]
  },
  {
   "cell_type": "code",
   "execution_count": 24,
   "id": "53cbd917",
   "metadata": {},
   "outputs": [
    {
     "data": {
      "image/png": "[encoded data removed]",
      "text/plain": [
       "<Figure size 1000x600 with 1 Axes>"
      ]
     },
     "metadata": {},
     "output_type": "display_data"
    }
   ],
   "source": [
    "#extracting the necessary columns for plotting\n",
    "\n",
    "item_names = sales['Item']\n",
    "qtr1_sales = sales['Qtr 1']\n",
    "qtr2_sales = sales['Qtr 2']\n",
    "qtr3_sales = sales['Qtr 3']\n",
    "\n",
    "# Setting up the plot\n",
    "\n",
    "bar_width = 0.2  # Width of each bar\n",
    "index = np.arange(len(item_names))\n",
    "\n",
    "plt.figure(figsize=(10, 6))\n",
    "plt.bar(index - bar_width, qtr1_sales, width=bar_width, label='Qtr 1')\n",
    "plt.bar(index, qtr2_sales, width=bar_width, label='Qtr 2')\n",
    "plt.bar(index + bar_width, qtr3_sales, width=bar_width, label='Qtr 3')\n",
    "\n",
    "# Adding labels and title to the plot\n",
    "\n",
    "plt.xlabel('Items')\n",
    "plt.ylabel('Sales figures')\n",
    "plt.title('Sales figures of 3 Quarters')\n",
    "plt.legend()\n",
    "\n",
    "plt.show() #displaying the plot\n"
   ]
  },
  {
   "cell_type": "code",
   "execution_count": null,
   "id": "e11bab8c",
   "metadata": {},
   "outputs": [],
   "source": []
  }
 ],
 "metadata": {
  "kernelspec": {
   "display_name": "Python 3 (ipykernel)",
   "language": "python",
   "name": "python3"
  },
  "language_info": {
   "codemirror_mode": {
    "name": "ipython",
    "version": 3
   },
   "file_extension": ".py",
   "mimetype": "text/x-python",
   "name": "python",
   "nbconvert_exporter": "python",
   "pygments_lexer": "ipython3",
   "version": "3.10.9"
  }
 },
 "nbformat": 4,
 "nbformat_minor": 5
}
