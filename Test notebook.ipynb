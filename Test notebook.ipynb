{
 "cells": [
  {
   "cell_type": "code",
   "execution_count": 1,
   "id": "f67fde37",
   "metadata": {},
   "outputs": [
    {
     "name": "stdout",
     "output_type": "stream",
     "text": [
      "30\n"
     ]
    }
   ],
   "source": [
    "age = 20 \n",
    "age = 25\n",
    "age = age + 5\n",
    "print(age)"
   ]
  },
  {
   "cell_type": "code",
   "execution_count": 5,
   "id": "d24a4c85",
   "metadata": {},
   "outputs": [
    {
     "name": "stdout",
     "output_type": "stream",
     "text": [
      "[20 25 33 45 69 80]\n",
      "80\n",
      "20\n",
      "45.333333333333336\n"
     ]
    }
   ],
   "source": [
    "import numpy as np\n",
    "ages = [20,25,33,45,69,80]\n",
    "ages = np.array(ages)\n",
    "print(ages)\n",
    "max = ages.max()\n",
    "min = ages.min()  \n",
    "mean = ages.mean()\n",
    "print(max)\n",
    "print(min)\n",
    "print(mean)"
   ]
  },
  {
   "cell_type": "code",
   "execution_count": 12,
   "id": "17ed5cec",
   "metadata": {},
   "outputs": [
    {
     "name": "stdout",
     "output_type": "stream",
     "text": [
      "[6.41777778e+02 4.13444444e+02 1.52111111e+02 1.11111111e-01\n",
      " 5.60111111e+02 1.20177778e+03]\n",
      "2969.333333333333\n",
      "494.88888888888886\n"
     ]
    }
   ],
   "source": [
    "dists = ages - mean\n",
    "dists = dists * dists\n",
    "summed_dists = np.sum(dists)\n",
    "avg_dists = summed_dists/len(ages)\n",
    "print(dists)\n",
    "print(summed_dists)\n",
    "print(avg_dists)"
   ]
  },
  {
   "cell_type": "code",
   "execution_count": 13,
   "id": "2c14720f",
   "metadata": {},
   "outputs": [
    {
     "name": "stdout",
     "output_type": "stream",
     "text": [
      "22.24609828461811\n"
     ]
    }
   ],
   "source": [
    "std_dev = np.sqrt(avg_dists)\n",
    "print(std_dev)"
   ]
  },
  {
   "cell_type": "code",
   "execution_count": null,
   "id": "8a80f722",
   "metadata": {},
   "outputs": [],
   "source": []
  }
 ],
 "metadata": {
  "kernelspec": {
   "display_name": "Python 3 (ipykernel)",
   "language": "python",
   "name": "python3"
  },
  "language_info": {
   "codemirror_mode": {
    "name": "ipython",
    "version": 3
   },
   "file_extension": ".py",
   "mimetype": "text/x-python",
   "name": "python",
   "nbconvert_exporter": "python",
   "pygments_lexer": "ipython3",
   "version": "3.10.9"
  }
 },
 "nbformat": 4,
 "nbformat_minor": 5
}
